{
  "nbformat": 4,
  "nbformat_minor": 0,
  "metadata": {
    "colab": {
      "name": "20010916.ipynb",
      "provenance": [],
      "authorship_tag": "ABX9TyMXMBRgx56O7L2TKZMgAwAj",
      "include_colab_link": true
    },
    "kernelspec": {
      "name": "python3",
      "display_name": "Python 3"
    },
    "language_info": {
      "name": "python"
    }
  },
  "cells": [
    {
      "cell_type": "markdown",
      "metadata": {
        "id": "view-in-github",
        "colab_type": "text"
      },
      "source": [
        "<a href=\"https://colab.research.google.com/github/JimLi999/CS2021/blob/main/20010916.ipynb\" target=\"_parent\"><img src=\"https://colab.research.google.com/assets/colab-badge.svg\" alt=\"Open In Colab\"/></a>"
      ]
    },
    {
      "cell_type": "code",
      "metadata": {
        "colab": {
          "base_uri": "https://localhost:8080/"
        },
        "id": "MB202pbZNLHb",
        "outputId": "efa5e325-1b12-4a00-dd86-5ba2fca84226"
      },
      "source": [
        "!openssl help"
      ],
      "execution_count": null,
      "outputs": [
        {
          "output_type": "stream",
          "name": "stdout",
          "text": [
            "Standard commands\n",
            "asn1parse         ca                ciphers           cms               \n",
            "crl               crl2pkcs7         dgst              dhparam           \n",
            "dsa               dsaparam          ec                ecparam           \n",
            "enc               engine            errstr            gendsa            \n",
            "genpkey           genrsa            help              list              \n",
            "nseq              ocsp              passwd            pkcs12            \n",
            "pkcs7             pkcs8             pkey              pkeyparam         \n",
            "pkeyutl           prime             rand              rehash            \n",
            "req               rsa               rsautl            s_client          \n",
            "s_server          s_time            sess_id           smime             \n",
            "speed             spkac             srp               storeutl          \n",
            "ts                verify            version           x509              \n",
            "\n",
            "Message Digest commands (see the `dgst' command for more details)\n",
            "blake2b512        blake2s256        gost              md4               \n",
            "md5               rmd160            sha1              sha224            \n",
            "sha256            sha3-224          sha3-256          sha3-384          \n",
            "sha3-512          sha384            sha512            sha512-224        \n",
            "sha512-256        shake128          shake256          sm3               \n",
            "\n",
            "Cipher commands (see the `enc' command for more details)\n",
            "aes-128-cbc       aes-128-ecb       aes-192-cbc       aes-192-ecb       \n",
            "aes-256-cbc       aes-256-ecb       aria-128-cbc      aria-128-cfb      \n",
            "aria-128-cfb1     aria-128-cfb8     aria-128-ctr      aria-128-ecb      \n",
            "aria-128-ofb      aria-192-cbc      aria-192-cfb      aria-192-cfb1     \n",
            "aria-192-cfb8     aria-192-ctr      aria-192-ecb      aria-192-ofb      \n",
            "aria-256-cbc      aria-256-cfb      aria-256-cfb1     aria-256-cfb8     \n",
            "aria-256-ctr      aria-256-ecb      aria-256-ofb      base64            \n",
            "bf                bf-cbc            bf-cfb            bf-ecb            \n",
            "bf-ofb            camellia-128-cbc  camellia-128-ecb  camellia-192-cbc  \n",
            "camellia-192-ecb  camellia-256-cbc  camellia-256-ecb  cast              \n",
            "cast-cbc          cast5-cbc         cast5-cfb         cast5-ecb         \n",
            "cast5-ofb         des               des-cbc           des-cfb           \n",
            "des-ecb           des-ede           des-ede-cbc       des-ede-cfb       \n",
            "des-ede-ofb       des-ede3          des-ede3-cbc      des-ede3-cfb      \n",
            "des-ede3-ofb      des-ofb           des3              desx              \n",
            "rc2               rc2-40-cbc        rc2-64-cbc        rc2-cbc           \n",
            "rc2-cfb           rc2-ecb           rc2-ofb           rc4               \n",
            "rc4-40            seed              seed-cbc          seed-cfb          \n",
            "seed-ecb          seed-ofb          sm4-cbc           sm4-cfb           \n",
            "sm4-ctr           sm4-ecb           sm4-ofb           \n",
            "\n"
          ]
        }
      ]
    },
    {
      "cell_type": "code",
      "metadata": {
        "colab": {
          "base_uri": "https://localhost:8080/"
        },
        "id": "if8fC37BNqCd",
        "outputId": "5ba50b5b-c34d-4242-f22e-b87c686a2def"
      },
      "source": [
        "!uname -a"
      ],
      "execution_count": null,
      "outputs": [
        {
          "output_type": "stream",
          "name": "stdout",
          "text": [
            "Linux 6c32c9fb81cb 5.4.104+ #1 SMP Sat Jun 5 09:50:34 PDT 2021 x86_64 x86_64 x86_64 GNU/Linux\n"
          ]
        }
      ]
    }
  ]
}
