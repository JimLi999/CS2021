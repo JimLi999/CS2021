{
  "nbformat": 4,
  "nbformat_minor": 0,
  "metadata": {
    "colab": {
      "name": "pycrypto2021030.ipynb",
      "provenance": [],
      "collapsed_sections": [],
      "authorship_tag": "ABX9TyOpe0iD9dUsFBp38iENnGNA",
      "include_colab_link": true
    },
    "kernelspec": {
      "name": "python3",
      "display_name": "Python 3"
    },
    "language_info": {
      "name": "python"
    },
    "accelerator": "GPU"
  },
  "cells": [
    {
      "cell_type": "markdown",
      "metadata": {
        "id": "view-in-github",
        "colab_type": "text"
      },
      "source": [
        "<a href=\"https://colab.research.google.com/github/JimLi999/CS2021/blob/main/YANG_RSA-1.ipynb\" target=\"_parent\"><img src=\"https://colab.research.google.com/assets/colab-badge.svg\" alt=\"Open In Colab\"/></a>"
      ]
    },
    {
      "cell_type": "code",
      "metadata": {
        "colab": {
          "base_uri": "https://localhost:8080/"
        },
        "id": "D5zYikqmYlIZ",
        "outputId": "677f91ee-9af9-41aa-960f-a68eaa8ee28b"
      },
      "source": [
        "!pip install pycrypto\n",
        "!pip install libnum\n",
        "!apt install libgmp-dev\n",
        "!apt install libpfr-dev\n",
        "!apt install libmpc-dev\n",
        "!pip install gmpy2"
      ],
      "execution_count": 2,
      "outputs": [
        {
          "output_type": "stream",
          "name": "stdout",
          "text": [
            "Requirement already satisfied: pycrypto in /usr/local/lib/python3.7/dist-packages (2.6.1)\n",
            "Requirement already satisfied: libnum in /usr/local/lib/python3.7/dist-packages (1.7.1)\n",
            "Reading package lists... Done\n",
            "Building dependency tree       \n",
            "Reading state information... Done\n",
            "libgmp-dev is already the newest version (2:6.1.2+dfsg-2).\n",
            "libgmp-dev set to manually installed.\n",
            "0 upgraded, 0 newly installed, 0 to remove and 37 not upgraded.\n",
            "Reading package lists... Done\n",
            "Building dependency tree       \n",
            "Reading state information... Done\n",
            "E: Unable to locate package libpfr-dev\n",
            "Reading package lists... Done\n",
            "Building dependency tree       \n",
            "Reading state information... Done\n",
            "libmpc-dev is already the newest version (1.1.0-1).\n",
            "0 upgraded, 0 newly installed, 0 to remove and 37 not upgraded.\n",
            "Requirement already satisfied: gmpy2 in /usr/local/lib/python3.7/dist-packages (2.0.8)\n"
          ]
        }
      ]
    },
    {
      "cell_type": "code",
      "metadata": {
        "colab": {
          "base_uri": "https://localhost:8080/"
        },
        "id": "rfQBfk27ZysV",
        "outputId": "9e7a520c-99cd-46a3-ffc1-7fd296e8eac3"
      },
      "source": [
        "#!/usr/bin/env python\n",
        "from Crypto.Util.number import *\n",
        "import gmpy2\n",
        "\n",
        "p =2262150367\n",
        "q =3006300461\n",
        "r =12218233223644524650141958853163065112163255395621655741865064529020634406575730714768264558014607893896434523845321502371618344594488810317052606914954669\n",
        "\n",
        "n =83092583783534841000145280642003842283533340442637642451258941907393275732996256523893438356692786223410880194199043046345864683398238392329295750150314289824255749149834103\n",
        "e =11\n",
        "c =32392151763267291269610586564983347951891395196084251182633225594245167922176424232164117237142038355860036871811244158149537196288428230971760474130300660929743492107190512\n",
        "\n",
        "\n",
        "phi = (p-1)*(q-1)*(r-1)\n",
        "\n",
        "d = int(gmpy2.invert(e, phi))\n",
        "\n",
        "m = pow(c,d,n)\n",
        "\n",
        "print(long_to_bytes(m))"
      ],
      "execution_count": 3,
      "outputs": [
        {
          "output_type": "stream",
          "name": "stdout",
          "text": [
            "b'BreakALLCTF{R$A_!s_so_e@sy_r!ght?....}'\n"
          ]
        }
      ]
    }
  ]
}